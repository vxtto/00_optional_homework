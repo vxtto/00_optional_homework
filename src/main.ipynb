{
 "cells": [
  {
   "cell_type": "markdown",
   "id": "b3b3a8e5-9d64-439c-a4bd-3f6595d7ad32",
   "metadata": {},
   "source": [
    "# Homework 00"
   ]
  },
  {
   "cell_type": "code",
   "execution_count": 5,
   "id": "75097c4b-ad5c-4f55-8364-129d4aa07da7",
   "metadata": {},
   "outputs": [],
   "source": [
    "import numpy as np\n",
    "import pandas as pd"
   ]
  },
  {
   "cell_type": "code",
   "execution_count": 15,
   "id": "d0b4fc59-cd13-41e1-aede-20114d9b3f2e",
   "metadata": {},
   "outputs": [
    {
     "data": {
      "text/html": [
       "<div>\n",
       "<style scoped>\n",
       "    .dataframe tbody tr th:only-of-type {\n",
       "        vertical-align: middle;\n",
       "    }\n",
       "\n",
       "    .dataframe tbody tr th {\n",
       "        vertical-align: top;\n",
       "    }\n",
       "\n",
       "    .dataframe thead th {\n",
       "        text-align: right;\n",
       "    }\n",
       "</style>\n",
       "<table border=\"1\" class=\"dataframe\">\n",
       "  <thead>\n",
       "    <tr style=\"text-align: right;\">\n",
       "      <th></th>\n",
       "      <th>Intent</th>\n",
       "      <th>Gender</th>\n",
       "      <th>Age</th>\n",
       "      <th>Race</th>\n",
       "      <th>Deaths</th>\n",
       "      <th>Population</th>\n",
       "      <th>Rate</th>\n",
       "    </tr>\n",
       "  </thead>\n",
       "  <tbody>\n",
       "    <tr>\n",
       "      <th>1</th>\n",
       "      <td>NaN</td>\n",
       "      <td>NaN</td>\n",
       "      <td>NaN</td>\n",
       "      <td>NaN</td>\n",
       "      <td>33599</td>\n",
       "      <td>316299978</td>\n",
       "      <td>10.6</td>\n",
       "    </tr>\n",
       "    <tr>\n",
       "      <th>2</th>\n",
       "      <td>NaN</td>\n",
       "      <td>NaN</td>\n",
       "      <td>NaN</td>\n",
       "      <td>White</td>\n",
       "      <td>22079</td>\n",
       "      <td>197369634</td>\n",
       "      <td>11.2</td>\n",
       "    </tr>\n",
       "    <tr>\n",
       "      <th>3</th>\n",
       "      <td>NaN</td>\n",
       "      <td>NaN</td>\n",
       "      <td>NaN</td>\n",
       "      <td>Black</td>\n",
       "      <td>7765</td>\n",
       "      <td>38896382</td>\n",
       "      <td>20.0</td>\n",
       "    </tr>\n",
       "    <tr>\n",
       "      <th>4</th>\n",
       "      <td>NaN</td>\n",
       "      <td>NaN</td>\n",
       "      <td>NaN</td>\n",
       "      <td>Hispanic</td>\n",
       "      <td>3007</td>\n",
       "      <td>54049078</td>\n",
       "      <td>5.6</td>\n",
       "    </tr>\n",
       "    <tr>\n",
       "      <th>5</th>\n",
       "      <td>NaN</td>\n",
       "      <td>NaN</td>\n",
       "      <td>NaN</td>\n",
       "      <td>Asian/Pacific Islander</td>\n",
       "      <td>442</td>\n",
       "      <td>16315561</td>\n",
       "      <td>2.7</td>\n",
       "    </tr>\n",
       "    <tr>\n",
       "      <th>...</th>\n",
       "      <td>...</td>\n",
       "      <td>...</td>\n",
       "      <td>...</td>\n",
       "      <td>...</td>\n",
       "      <td>...</td>\n",
       "      <td>...</td>\n",
       "      <td>...</td>\n",
       "    </tr>\n",
       "    <tr>\n",
       "      <th>536</th>\n",
       "      <td>Unknown</td>\n",
       "      <td>Male</td>\n",
       "      <td>5</td>\n",
       "      <td>White</td>\n",
       "      <td>0</td>\n",
       "      <td>0</td>\n",
       "      <td>NaN</td>\n",
       "    </tr>\n",
       "    <tr>\n",
       "      <th>537</th>\n",
       "      <td>Unknown</td>\n",
       "      <td>Male</td>\n",
       "      <td>5</td>\n",
       "      <td>Black</td>\n",
       "      <td>0</td>\n",
       "      <td>0</td>\n",
       "      <td>NaN</td>\n",
       "    </tr>\n",
       "    <tr>\n",
       "      <th>538</th>\n",
       "      <td>Unknown</td>\n",
       "      <td>Male</td>\n",
       "      <td>5</td>\n",
       "      <td>Hispanic</td>\n",
       "      <td>0</td>\n",
       "      <td>0</td>\n",
       "      <td>NaN</td>\n",
       "    </tr>\n",
       "    <tr>\n",
       "      <th>539</th>\n",
       "      <td>Unknown</td>\n",
       "      <td>Male</td>\n",
       "      <td>5</td>\n",
       "      <td>Asian/Pacific Islander</td>\n",
       "      <td>0</td>\n",
       "      <td>0</td>\n",
       "      <td>NaN</td>\n",
       "    </tr>\n",
       "    <tr>\n",
       "      <th>540</th>\n",
       "      <td>Unknown</td>\n",
       "      <td>Male</td>\n",
       "      <td>5</td>\n",
       "      <td>Other</td>\n",
       "      <td>0</td>\n",
       "      <td>0</td>\n",
       "      <td>NaN</td>\n",
       "    </tr>\n",
       "  </tbody>\n",
       "</table>\n",
       "<p>540 rows × 7 columns</p>\n",
       "</div>"
      ],
      "text/plain": [
       "      Intent Gender  Age                    Race  Deaths  Population  Rate\n",
       "1        NaN    NaN  NaN                     NaN   33599   316299978  10.6\n",
       "2        NaN    NaN  NaN                   White   22079   197369634  11.2\n",
       "3        NaN    NaN  NaN                   Black    7765    38896382  20.0\n",
       "4        NaN    NaN  NaN                Hispanic    3007    54049078   5.6\n",
       "5        NaN    NaN  NaN  Asian/Pacific Islander     442    16315561   2.7\n",
       "..       ...    ...  ...                     ...     ...         ...   ...\n",
       "536  Unknown   Male    5                   White       0           0   NaN\n",
       "537  Unknown   Male    5                   Black       0           0   NaN\n",
       "538  Unknown   Male    5                Hispanic       0           0   NaN\n",
       "539  Unknown   Male    5  Asian/Pacific Islander       0           0   NaN\n",
       "540  Unknown   Male    5                   Other       0           0   NaN\n",
       "\n",
       "[540 rows x 7 columns]"
      ]
     },
     "execution_count": 15,
     "metadata": {},
     "output_type": "execute_result"
    }
   ],
   "source": [
    "# Initialize gunshot deaths dataframe\n",
    "RAW_DATA = '../data/interactive_data.csv'\n",
    "df = pd.read_csv(RAW_DATA, index_col=0)\n",
    "\n",
    "# Set NaNs in place of 'None selected' values\n",
    "df = df.replace('None selected', np.NaN)\n",
    "\n",
    "# Example view\n",
    "df"
   ]
  },
  {
   "cell_type": "markdown",
   "id": "3c677051-3094-4a68-abb3-878d4c683d85",
   "metadata": {},
   "source": [
    "## Nearly *two-thirds* of gun deaths are *suicides* and around *a third* of all gun deaths are *homicides*"
   ]
  },
  {
   "cell_type": "code",
   "execution_count": 31,
   "id": "0c758e04-8750-4abf-8e18-cf9b65a0a7e9",
   "metadata": {},
   "outputs": [
    {
     "data": {
      "text/plain": [
       "Intent\n",
       "Accident      546\n",
       "Homicide    11726\n",
       "Suicide     21058\n",
       "Unknown       269\n",
       "Name: Deaths, dtype: int64"
      ]
     },
     "execution_count": 31,
     "metadata": {},
     "output_type": "execute_result"
    }
   ],
   "source": [
    "# Show deaths grouped by different intents\n",
    "intents_overview_df = df.groupby(['Intent']).first()['Deaths']\n",
    "intents_overview_df"
   ]
  },
  {
   "cell_type": "code",
   "execution_count": 57,
   "id": "db9e9c4b-afcc-43d8-80d0-3343ffb6a578",
   "metadata": {},
   "outputs": [
    {
     "data": {
      "text/plain": [
       "<AxesSubplot:ylabel='Deaths'>"
      ]
     },
     "execution_count": 57,
     "metadata": {},
     "output_type": "execute_result"
    },
    {
     "data": {
      "image/png": "[encoded data removed]",
      "text/plain": [
       "<Figure size 792x432 with 1 Axes>"
      ]
     },
     "metadata": {},
     "output_type": "display_data"
    }
   ],
   "source": [
    "# Plot the same information as the previous block, but using a pie chart to highlight the two-thirds / one-third rates\n",
    "intents_overview_df.plot.pie(figsize = (11, 6))"
   ]
  },
  {
   "cell_type": "markdown",
   "id": "887b8340-4960-4afa-86ce-103139007f83",
   "metadata": {},
   "source": [
    "## More than *85 percent* of suicide victims are *male*"
   ]
  },
  {
   "cell_type": "code",
   "execution_count": 73,
   "id": "246272b1-f85b-4bc9-83c0-1398973fede6",
   "metadata": {},
   "outputs": [
    {
     "data": {
      "text/plain": [
       "Gender\n",
       "Female     2896\n",
       "Male      18162\n",
       "Name: Deaths, dtype: int64"
      ]
     },
     "execution_count": 73,
     "metadata": {},
     "output_type": "execute_result"
    }
   ],
   "source": [
    "# Select all suicidal gunshot deaths\n",
    "filt = (df['Intent'] == 'Suicide')\n",
    "suicide_df = df.loc[filt]\n",
    "# Group them by gender\n",
    "gender_grp = suicide_df.groupby(['Gender']).first()\n",
    "gender_grp['Deaths']"
   ]
  },
  {
   "cell_type": "code",
   "execution_count": 96,
   "id": "db18681f-3f94-48d9-9b0a-ff05a7ad2eb3",
   "metadata": {},
   "outputs": [
    {
     "name": "stdout",
     "output_type": "stream",
     "text": [
      "86.24750688574414 %\n"
     ]
    }
   ],
   "source": [
    "# Calculate the percentage of male suicides\n",
    "male_suicides = gender_grp.loc['Male', 'Deaths']\n",
    "total_suicides = gender_grp.sum()['Deaths']\n",
    "print(male_suicides / total_suicides * 100, '%')"
   ]
  },
  {
   "cell_type": "markdown",
   "id": "2cefad9b-c71f-45d2-952a-3513fc5dfa81",
   "metadata": {},
   "source": [
    "## Around *two-thirds* of homicide victims who are *males* in the *age-group of 15 - 34* are *black*"
   ]
  },
  {
   "cell_type": "code",
   "execution_count": 84,
   "id": "26d02c7e-e1c2-4828-a8b2-654608d9388b",
   "metadata": {},
   "outputs": [
    {
     "data": {
      "text/html": [
       "<div>\n",
       "<style scoped>\n",
       "    .dataframe tbody tr th:only-of-type {\n",
       "        vertical-align: middle;\n",
       "    }\n",
       "\n",
       "    .dataframe tbody tr th {\n",
       "        vertical-align: top;\n",
       "    }\n",
       "\n",
       "    .dataframe thead th {\n",
       "        text-align: right;\n",
       "    }\n",
       "</style>\n",
       "<table border=\"1\" class=\"dataframe\">\n",
       "  <thead>\n",
       "    <tr style=\"text-align: right;\">\n",
       "      <th></th>\n",
       "      <th>Intent</th>\n",
       "      <th>Gender</th>\n",
       "      <th>Age</th>\n",
       "      <th>Race</th>\n",
       "      <th>Deaths</th>\n",
       "      <th>Population</th>\n",
       "      <th>Rate</th>\n",
       "    </tr>\n",
       "  </thead>\n",
       "  <tbody>\n",
       "    <tr>\n",
       "      <th>301</th>\n",
       "      <td>Homicide</td>\n",
       "      <td>Male</td>\n",
       "      <td>15 - 34</td>\n",
       "      <td>NaN</td>\n",
       "      <td>6520</td>\n",
       "      <td>44017869</td>\n",
       "      <td>14.8</td>\n",
       "    </tr>\n",
       "    <tr>\n",
       "      <th>302</th>\n",
       "      <td>Homicide</td>\n",
       "      <td>Male</td>\n",
       "      <td>15 - 34</td>\n",
       "      <td>White</td>\n",
       "      <td>913</td>\n",
       "      <td>24831032</td>\n",
       "      <td>3.7</td>\n",
       "    </tr>\n",
       "    <tr>\n",
       "      <th>303</th>\n",
       "      <td>Homicide</td>\n",
       "      <td>Male</td>\n",
       "      <td>15 - 34</td>\n",
       "      <td>Black</td>\n",
       "      <td>4312</td>\n",
       "      <td>5869943</td>\n",
       "      <td>73.5</td>\n",
       "    </tr>\n",
       "    <tr>\n",
       "      <th>304</th>\n",
       "      <td>Homicide</td>\n",
       "      <td>Male</td>\n",
       "      <td>15 - 34</td>\n",
       "      <td>Hispanic</td>\n",
       "      <td>1166</td>\n",
       "      <td>9379683</td>\n",
       "      <td>12.4</td>\n",
       "    </tr>\n",
       "    <tr>\n",
       "      <th>305</th>\n",
       "      <td>Homicide</td>\n",
       "      <td>Male</td>\n",
       "      <td>15 - 34</td>\n",
       "      <td>Asian/Pacific Islander</td>\n",
       "      <td>76</td>\n",
       "      <td>2415040</td>\n",
       "      <td>3.1</td>\n",
       "    </tr>\n",
       "    <tr>\n",
       "      <th>306</th>\n",
       "      <td>Homicide</td>\n",
       "      <td>Male</td>\n",
       "      <td>15 - 34</td>\n",
       "      <td>Other</td>\n",
       "      <td>54</td>\n",
       "      <td>1522171</td>\n",
       "      <td>3.5</td>\n",
       "    </tr>\n",
       "  </tbody>\n",
       "</table>\n",
       "</div>"
      ],
      "text/plain": [
       "       Intent Gender      Age                    Race  Deaths  Population  \\\n",
       "301  Homicide   Male  15 - 34                     NaN    6520    44017869   \n",
       "302  Homicide   Male  15 - 34                   White     913    24831032   \n",
       "303  Homicide   Male  15 - 34                   Black    4312     5869943   \n",
       "304  Homicide   Male  15 - 34                Hispanic    1166     9379683   \n",
       "305  Homicide   Male  15 - 34  Asian/Pacific Islander      76     2415040   \n",
       "306  Homicide   Male  15 - 34                   Other      54     1522171   \n",
       "\n",
       "     Rate  \n",
       "301  14.8  \n",
       "302   3.7  \n",
       "303  73.5  \n",
       "304  12.4  \n",
       "305   3.1  \n",
       "306   3.5  "
      ]
     },
     "execution_count": 84,
     "metadata": {},
     "output_type": "execute_result"
    }
   ],
   "source": [
    "# Create a filter for homicides of males in the age group of 15 - 34\n",
    "filt = (df['Intent'] == 'Homicide') & (df['Gender'] == 'Male') & (df['Age'] == '15 - 34')\n",
    "young_men_homicides_df = df.loc[filt]\n",
    "young_men_homicides_df"
   ]
  },
  {
   "cell_type": "code",
   "execution_count": 90,
   "id": "eac005f1-5b1c-4096-8775-0242fdd6728f",
   "metadata": {},
   "outputs": [
    {
     "data": {
      "text/plain": [
       "<AxesSubplot:ylabel='Deaths'>"
      ]
     },
     "execution_count": 90,
     "metadata": {},
     "output_type": "execute_result"
    },
    {
     "data": {
      "image/png": "[encoded data removed]",
      "text/plain": [
       "<Figure size 432x288 with 1 Axes>"
      ]
     },
     "metadata": {},
     "output_type": "display_data"
    }
   ],
   "source": [
    "# Plot a pie chart to highlight the two-thrids ratio\n",
    "young_men_homicides_df.groupby(['Race']).first()['Deaths'].plot.pie()"
   ]
  }
 ],
 "metadata": {
  "kernelspec": {
   "display_name": "Python",
   "language": "python",
   "name": "python3"
  },
  "language_info": {
   "codemirror_mode": {
    "name": "ipython",
    "version": 3
   },
   "file_extension": ".py",
   "mimetype": "text/x-python",
   "name": "python",
   "nbconvert_exporter": "python",
   "pygments_lexer": "ipython3",
   "version": "3.8.10"
  }
 },
 "nbformat": 4,
 "nbformat_minor": 5
}
